{
  "cells": [
    {
      "cell_type": "code",
      "execution_count": 1,
      "metadata": {
        "collapsed": true,
        "id": "4Ua2sBncsaW2"
      },
      "outputs": [],
      "source": [
        "import torch\n",
        "import torch.nn as nn\n",
        "import torch.nn.functional as F"
      ]
    },
    {
      "cell_type": "code",
      "execution_count": null,
      "metadata": {
        "colab": {
          "base_uri": "https://localhost:8080/"
        },
        "id": "BClollc52m0m",
        "outputId": "f0d77888-0611-4e69-f0bf-051bb90bc33d"
      },
      "outputs": [],
      "source": [
        "from google.colab import drive\n",
        "drive.mount('/content/drive')"
      ]
    },
    {
      "cell_type": "code",
      "execution_count": null,
      "metadata": {
        "colab": {
          "base_uri": "https://localhost:8080/"
        },
        "id": "UXqgf2S-saZe",
        "outputId": "72ea2586-887f-420a-83a4-6c8702f93540"
      },
      "outputs": [],
      "source": [
        "words = open('/content/drive/MyDrive/data/names.txt','r').read().splitlines()\n",
        "print(words)\n",
        "print(len(words))"
      ]
    },
    {
      "cell_type": "code",
      "execution_count": null,
      "metadata": {
        "colab": {
          "base_uri": "https://localhost:8080/"
        },
        "id": "eeYdyGtssacO",
        "outputId": "9964e837-72eb-402e-8253-d87e24900a26"
      },
      "outputs": [],
      "source": [
        "print(f\"min: {min(len(w) for w in words)}\")\n",
        "print(f\"max: {max(len(w) for w in words)}\")"
      ]
    },
    {
      "cell_type": "code",
      "execution_count": 7,
      "metadata": {
        "id": "OQVWfVw_sahm"
      },
      "outputs": [],
      "source": [
        "b = {}\n",
        "for w in words:\n",
        "  chs = ['<S>'] + list(w) + ['<E>']\n",
        "  for ch1,ch2 in zip(chs,chs[1:]):\n",
        "    bigram = (ch1,ch2)\n",
        "    b[bigram] = b.get(bigram,0) + 1"
      ]
    },
    {
      "cell_type": "code",
      "execution_count": null,
      "metadata": {
        "colab": {
          "base_uri": "https://localhost:8080/"
        },
        "collapsed": true,
        "id": "mO1yeE7GsakH",
        "outputId": "5a571f52-7f12-4bc9-fc4e-96a6af3794b2"
      },
      "outputs": [],
      "source": [
        "sorted(b.items(),key=lambda kv:-kv[1])"
      ]
    },
    {
      "cell_type": "code",
      "execution_count": null,
      "metadata": {
        "colab": {
          "base_uri": "https://localhost:8080/"
        },
        "id": "xoNvssxesapO",
        "outputId": "62de40a7-5a32-4459-dcef-89f264ef0638"
      },
      "outputs": [],
      "source": [
        "N = torch.zeros((27,27),dtype=torch.int32)\n",
        "chrs = sorted(list(set(''.join(words))))\n",
        "\n",
        "stoi = {s:i+1 for i,s in enumerate(chrs)}\n",
        "stoi['.'] = 0\n",
        "itos = {i:s for s,i in stoi.items()}\n",
        "\n",
        "print(stoi,\"\\n\",itos)"
      ]
    },
    {
      "cell_type": "code",
      "execution_count": 10,
      "metadata": {
        "id": "L_pJbThwsarO"
      },
      "outputs": [],
      "source": [
        "for w in words:\n",
        "  chs = ['.'] + list(w) + ['.']\n",
        "  for ch1,ch2 in zip(chs,chs[1:]):\n",
        "    ix1 = stoi[ch1]\n",
        "    ix2 = stoi[ch2]\n",
        "    N[ix1,ix2]+=1"
      ]
    },
    {
      "cell_type": "code",
      "execution_count": null,
      "metadata": {
        "colab": {
          "base_uri": "https://localhost:8080/"
        },
        "collapsed": true,
        "id": "vZd5PsQcJlTR",
        "outputId": "e6f87b4a-d186-465c-c8b7-d0eaf96d7019"
      },
      "outputs": [],
      "source": [
        "print(N)"
      ]
    },
    {
      "cell_type": "code",
      "execution_count": 12,
      "metadata": {
        "colab": {
          "base_uri": "https://localhost:8080/",
          "height": 434
        },
        "id": "rW8yK1vEJmfh",
        "outputId": "889f4862-c1c8-4cf2-9bde-51f301377dc5"
      },
      "outputs": [
        {
          "data": {
            "image/png": "[encoded data removed]",
            "text/plain": [
              "<Figure size 640x480 with 2 Axes>"
            ]
          },
          "metadata": {},
          "output_type": "display_data"
        }
      ],
      "source": [
        "import matplotlib.pyplot as plt\n",
        "import seaborn as sns\n",
        "sns.heatmap(N)\n",
        "plt.show()"
      ]
    },
    {
      "cell_type": "code",
      "execution_count": null,
      "metadata": {
        "colab": {
          "base_uri": "https://localhost:8080/"
        },
        "id": "kZnXgJSYJ2MA",
        "outputId": "4ee34800-8855-4a54-81b0-cc9fdbb1468b"
      },
      "outputs": [],
      "source": [
        "N[0,:]"
      ]
    },
    {
      "cell_type": "code",
      "execution_count": null,
      "metadata": {
        "colab": {
          "base_uri": "https://localhost:8080/"
        },
        "id": "WfZ36sBZMMIJ",
        "outputId": "c0d78c75-89d2-47a2-daae-8081584cd92d"
      },
      "outputs": [],
      "source": [
        "p = N[0].float()\n",
        "p = p/torch.sum(N[0])\n",
        "p"
      ]
    },
    {
      "cell_type": "code",
      "execution_count": null,
      "metadata": {
        "colab": {
          "base_uri": "https://localhost:8080/",
          "height": 35
        },
        "id": "_hF4g7KCNwjW",
        "outputId": "6bf09212-d3b3-447d-e351-1f4f25418904"
      },
      "outputs": [],
      "source": [
        "# sample an index based on the probability distibution 'p'\n",
        "g = torch.Generator().manual_seed(2147483647)\n",
        "ix = torch.multinomial(p,num_samples=1,replacement=True,generator=g).item()"
      ]
    },
    {
      "cell_type": "code",
      "execution_count": null,
      "metadata": {
        "colab": {
          "base_uri": "https://localhost:8080/"
        },
        "id": "u9DBr8O1VK5g",
        "outputId": "d66840e7-888b-4caf-f29d-9f801988683c"
      },
      "outputs": [],
      "source": [
        "## Make a distribution matrix using N\n",
        "\n",
        "P = N.float()\n",
        "P = P/P.sum(1,keepdims=True)\n",
        "P.shape"
      ]
    },
    {
      "cell_type": "code",
      "execution_count": 17,
      "metadata": {
        "colab": {
          "base_uri": "https://localhost:8080/"
        },
        "collapsed": true,
        "id": "1jrx8ylQOG8z",
        "outputId": "f927e784-ffa5-45ac-9c5e-126b55c543f7"
      },
      "outputs": [
        {
          "name": "stdout",
          "output_type": "stream",
          "text": [
            "junide.\n",
            "janasah.\n",
            "p.\n",
            "cony.\n",
            "a.\n",
            "nn.\n",
            "kohin.\n",
            "tolian.\n",
            "juee.\n",
            "ksahnaauranilevias.\n",
            "dedainrwieta.\n",
            "ssonielylarte.\n",
            "faveumerifontume.\n",
            "phynslenaruani.\n",
            "core.\n",
            "yaenon.\n",
            "ka.\n",
            "jabdinerimikimaynin.\n",
            "anaasn.\n",
            "ssorionsush.\n"
          ]
        }
      ],
      "source": [
        "## sampling characters form the matrix N\n",
        "g = torch.Generator().manual_seed(2147483647)\n",
        "\n",
        "for i in range(20):\n",
        "  ix = 0\n",
        "  out = []\n",
        "  while True:\n",
        "    p = P[ix]\n",
        "    ix = torch.multinomial(p,num_samples=1,replacement=True,generator=g).item()\n",
        "    out.append(itos[ix])\n",
        "    if ix==0:\n",
        "      break\n",
        "\n",
        "  print(''.join(out))"
      ]
    },
    {
      "cell_type": "code",
      "execution_count": null,
      "metadata": {
        "colab": {
          "base_uri": "https://localhost:8080/"
        },
        "collapsed": true,
        "id": "6BXCniy9SUcF",
        "outputId": "3129fffa-f41b-44a9-d6f2-c8cdbd7430bc"
      },
      "outputs": [],
      "source": [
        "log_likelihood=0.0\n",
        "n=0\n",
        "for w in words[:3]:\n",
        "  chs = ['.'] + list(w) + ['.']\n",
        "  for ch1,ch2 in zip(chs,chs[1:]):\n",
        "    ix1 = stoi[ch1]\n",
        "    ix2 = stoi[ch2]\n",
        "    p = P[ix1,ix2]\n",
        "    logprob = torch.log(p) # log prob is the individual probs\n",
        "    n+=1\n",
        "    log_likelihood+=logprob\n",
        "    print(f\"{ch1}{ch2}: {p:.4f} {logprob:.4f}\")\n",
        "\n",
        "print(f'{log_likelihood=}')\n",
        "nll = -log_likelihood\n",
        "print(f'{nll/n=}')"
      ]
    },
    {
      "cell_type": "code",
      "execution_count": null,
      "metadata": {
        "colab": {
          "base_uri": "https://localhost:8080/"
        },
        "id": "yJftAxNVQlJG",
        "outputId": "8b242d64-0668-4384-d2d2-71cfbedca637"
      },
      "outputs": [],
      "source": [
        "# creating the dataset for bigrams\n",
        "xs,ys = [],[]\n",
        "for w in words:\n",
        "  chs = ['.'] + list(w) + ['.']\n",
        "  for ch1,ch2 in zip(chs,chs[1:]):\n",
        "    ix1 = stoi[ch1]\n",
        "    ix2 = stoi[ch2]\n",
        "    xs.append(ix1)\n",
        "    ys.append(ix2)\n",
        "\n",
        "xs = torch.tensor(xs)\n",
        "ys = torch.tensor(ys)\n",
        "num = xs.nelement()\n",
        "print(\"Number of samples\",num)"
      ]
    },
    {
      "cell_type": "code",
      "execution_count": null,
      "metadata": {
        "colab": {
          "base_uri": "https://localhost:8080/"
        },
        "id": "dM_vxjvugY9K",
        "outputId": "91279eca-576c-4da7-b997-b8acc4b3f54e"
      },
      "outputs": [],
      "source": [
        "xs"
      ]
    },
    {
      "cell_type": "code",
      "execution_count": null,
      "metadata": {
        "colab": {
          "base_uri": "https://localhost:8080/"
        },
        "id": "QCyjunylgZra",
        "outputId": "ebcbef4e-ad3b-467d-cab9-5b27126b0c8b"
      },
      "outputs": [],
      "source": [
        "ys"
      ]
    },
    {
      "cell_type": "code",
      "execution_count": null,
      "metadata": {
        "colab": {
          "base_uri": "https://localhost:8080/"
        },
        "id": "KtwoNivIgaMq",
        "outputId": "98de8b59-864e-470c-ad56-2b911616a096"
      },
      "outputs": [],
      "source": [
        "# one hot encoding each integer input because integers cannot be used directly as inputs\n",
        "xenc = F.one_hot(xs,num_classes=27).float()\n",
        "xenc.shape"
      ]
    },
    {
      "cell_type": "code",
      "execution_count": null,
      "metadata": {
        "colab": {
          "base_uri": "https://localhost:8080/"
        },
        "id": "draH-BPyhLuZ",
        "outputId": "cf70420f-2afe-4269-af00-55639bda107b"
      },
      "outputs": [],
      "source": [
        "xenc.shape"
      ]
    },
    {
      "cell_type": "code",
      "execution_count": null,
      "metadata": {
        "colab": {
          "base_uri": "https://localhost:8080/"
        },
        "id": "PqLqSrJXhXA3",
        "outputId": "be9d4a10-d5b6-4032-c0ca-24e443212bc6"
      },
      "outputs": [],
      "source": [
        "# defining/initializing the neuron\n",
        "\n",
        "W = torch.randn((27,27))\n",
        "logits = xenc@W # interpret them as log counts instead of just counts\n",
        "counts = logits.exp() # counts like N\n",
        "prob = counts/counts.sum(1,keepdim=True) # counts normalized\n",
        "prob"
      ]
    },
    {
      "cell_type": "code",
      "execution_count": 25,
      "metadata": {
        "id": "aMeKBJwFtHLi"
      },
      "outputs": [],
      "source": [
        "# forward pass\n",
        "g = torch.Generator().manual_seed(2147483647)\n",
        "W = torch.randn((27,27), generator=g, requires_grad=True) # weight matrix for num_in,num_out"
      ]
    },
    {
      "cell_type": "code",
      "execution_count": null,
      "metadata": {
        "colab": {
          "base_uri": "https://localhost:8080/"
        },
        "id": "6ZT3tVXcwlmq",
        "outputId": "c274882e-a37d-41b0-915e-5a402192f7ac"
      },
      "outputs": [],
      "source": [
        "xenc = F.one_hot(xs,num_classes=27).float() # input to the neural net, one hot encoded\n",
        "logits = xenc@W # matrix mul ie W*x\n",
        "prob = F.softmax(logits,dim=-1) # prob distribution ie the final output dist\n",
        "loss = -prob[torch.arange(xs.shape[0]),ys].log().mean() # negative loss likelihood\n",
        "print(loss)"
      ]
    },
    {
      "cell_type": "code",
      "execution_count": 27,
      "metadata": {
        "id": "13h7h_U1wAxo"
      },
      "outputs": [],
      "source": [
        "# backward pass\n",
        "W.grad = None # setting grad to 0\n",
        "loss.backward()"
      ]
    },
    {
      "cell_type": "code",
      "execution_count": 28,
      "metadata": {
        "id": "oVJ9vEzqxIE1"
      },
      "outputs": [],
      "source": [
        "W.data+= -0.1*W.grad"
      ]
    },
    {
      "cell_type": "code",
      "execution_count": null,
      "metadata": {
        "colab": {
          "base_uri": "https://localhost:8080/"
        },
        "collapsed": true,
        "id": "hF5jtKh1xgC0",
        "outputId": "e1cb1ee4-4fc3-4bc2-fc68-4811fe9696c3"
      },
      "outputs": [],
      "source": [
        "# gradient descent\n",
        "\n",
        "for k in range(100):\n",
        "  xenc = F.one_hot(xs,num_classes=27).float() # input to the neural net, one hot encoded\n",
        "  logits = xenc@W # matrix mul ie W*x\n",
        "  prob = F.softmax(logits,dim=-1) # prob distribution ie the final output dist\n",
        "  loss = -prob[torch.arange(num),ys].log().mean() + 0.01*(W**2).mean() # negative log likelihood + regularizaton\n",
        "  print(loss.item())\n",
        "  W.grad = None # setting grad to 0\n",
        "  loss.backward()\n",
        "  W.data+= -45*W.grad"
      ]
    },
    {
      "cell_type": "code",
      "execution_count": 30,
      "metadata": {
        "colab": {
          "base_uri": "https://localhost:8080/"
        },
        "id": "Q5V70k6AzRe-",
        "outputId": "c8bac40a-53d7-48e9-e5a2-23ce825c66d8"
      },
      "outputs": [
        {
          "name": "stdout",
          "output_type": "stream",
          "text": [
            "heyeuthaikyn.\n",
            "korana.\n",
            "cebustt.\n",
            "arynnalale.\n",
            "zs.\n"
          ]
        }
      ],
      "source": [
        "# sampling from the neural net\n",
        "g = torch.Generator().manual_seed(21474837)\n",
        "\n",
        "for i in range(5):\n",
        "  out = []\n",
        "  ix = 0\n",
        "  while True:\n",
        "    xenc = F.one_hot(torch.tensor([ix]),num_classes=27).float()\n",
        "    logits = xenc@W\n",
        "    counts = logits.exp()\n",
        "    probs = counts/counts.sum(1,keepdim=True)\n",
        "    ix = torch.multinomial(probs,num_samples=1,replacement=True,generator=g).item()\n",
        "    out.append(itos[ix])\n",
        "    if ix==0:\n",
        "      break\n",
        "\n",
        "  print(\"\".join(out))"
      ]
    },
    {
      "cell_type": "code",
      "execution_count": 30,
      "metadata": {
        "id": "83nX1d1O3VPy"
      },
      "outputs": [],
      "source": []
    }
  ],
  "metadata": {
    "colab": {
      "provenance": []
    },
    "kernelspec": {
      "display_name": "Python 3",
      "name": "python3"
    },
    "language_info": {
      "name": "python"
    }
  },
  "nbformat": 4,
  "nbformat_minor": 0
}
